{
 "cells": [
  {
   "cell_type": "code",
   "execution_count": 18,
   "metadata": {},
   "outputs": [],
   "source": [
    "import numpy as np\n",
    "from gendis.genetic import GeneticExtractor\n",
    "from sklearn.linear_model import LogisticRegression\n",
    "from sklearn.metrics import accuracy_score\n",
    "from data_extraction import DataExtractor\n",
    "from trajectory_generator import TrajectoryGenerator\n",
    "from utils import standardize_data\n",
    "\n",
    "np.random.seed(1337)  # Random seed for reproducibility"
   ]
  },
  {
   "cell_type": "code",
   "execution_count": 19,
   "metadata": {},
   "outputs": [
    {
     "ename": "TypeError",
     "evalue": "__init__() got an unexpected keyword argument 'reset_data'",
     "output_type": "error",
     "traceback": [
      "\u001b[0;31m---------------------------------------------------------------------------\u001b[0m",
      "\u001b[0;31mTypeError\u001b[0m                                 Traceback (most recent call last)",
      "\u001b[0;32m<ipython-input-19-dba3836f0d35>\u001b[0m in \u001b[0;36m<module>\u001b[0;34m\u001b[0m\n\u001b[1;32m      2\u001b[0m \u001b[0mreset_data\u001b[0m \u001b[0;34m=\u001b[0m \u001b[0;32mFalse\u001b[0m\u001b[0;34m\u001b[0m\u001b[0;34m\u001b[0m\u001b[0m\n\u001b[1;32m      3\u001b[0m \u001b[0;31m#reset_data = True\u001b[0m\u001b[0;34m\u001b[0m\u001b[0;34m\u001b[0m\u001b[0;34m\u001b[0m\u001b[0m\n\u001b[0;32m----> 4\u001b[0;31m \u001b[0mtr_gen\u001b[0m \u001b[0;34m=\u001b[0m \u001b[0mTrajectoryGenerator\u001b[0m\u001b[0;34m(\u001b[0m\u001b[0msamples\u001b[0m\u001b[0;34m=\u001b[0m\u001b[0;36m100\u001b[0m\u001b[0;34m,\u001b[0m \u001b[0mreset_data\u001b[0m \u001b[0;34m=\u001b[0m \u001b[0mreset_data\u001b[0m\u001b[0;34m)\u001b[0m\u001b[0;34m\u001b[0m\u001b[0;34m\u001b[0m\u001b[0m\n\u001b[0m\u001b[1;32m      5\u001b[0m \u001b[0mtr_gen\u001b[0m\u001b[0;34m.\u001b[0m\u001b[0mdata_generation\u001b[0m\u001b[0;34m(\u001b[0m\u001b[0mn_test\u001b[0m\u001b[0;34m=\u001b[0m\u001b[0;36m10\u001b[0m\u001b[0;34m)\u001b[0m\u001b[0;34m\u001b[0m\u001b[0;34m\u001b[0m\u001b[0m\n",
      "\u001b[0;31mTypeError\u001b[0m: __init__() got an unexpected keyword argument 'reset_data'"
     ]
    }
   ],
   "source": [
    "# Create files if not created\n",
    "reset_data = False\n",
    "#reset_data = True\n",
    "tr_gen = TrajectoryGenerator(samples=100, reset_data = reset_data)\n",
    "tr_gen.data_generation(n_test=10)\n"
   ]
  },
  {
   "cell_type": "code",
   "execution_count": 3,
   "metadata": {},
   "outputs": [
    {
     "name": "stdout",
     "output_type": "stream",
     "text": [
      "\n",
      "Reading the data files\n",
      "Done reading files\n",
      "\n",
      "Creating datasets for train and test files\n",
      "Success\n",
      "\n",
      "Creating train.csv \n",
      "Success\n",
      "\n",
      "Creating test.csv \n",
      "Success\n"
     ]
    }
   ],
   "source": [
    "# Read in the datafiles\n",
    "dex = DataExtractor()\n",
    "train_df, test_df = dex.train_test_dataframes()\n",
    "dex.define_csv(dataset=train_df, ts_class=[\"Bearing\", \"Speed\"], file=\"train.csv\")\n",
    "dex.define_csv(dataset=test_df, ts_class=[\"Bearing\", \"Speed\"], file=\"test.csv\")"
   ]
  },
  {
   "cell_type": "code",
   "execution_count": 13,
   "metadata": {},
   "outputs": [
    {
     "name": "stdout",
     "output_type": "stream",
     "text": [
      "\n",
      "Loading the csv files to the appropriate train and test arrays(nparrays)\n",
      "Done\n",
      "standardized train and test data\n"
     ]
    }
   ],
   "source": [
    "x_train, y_train, x_test, y_test = dex.load_datasets()\n",
    "\n",
    "print(\"standardized train and test data\")\n",
    "x_train, x_test = standardize_data(x_train, x_test)"
   ]
  },
  {
   "cell_type": "code",
   "execution_count": 14,
   "metadata": {},
   "outputs": [
    {
     "name": "stdout",
     "output_type": "stream",
     "text": [
      "Starting fit in genetic extractor with:\n",
      "population size:25\n",
      "iterations: 25\n",
      "normed: 1\n",
      "\n",
      "it\t\tavg\t\tstd\t\tmax\t\ttime\n",
      "1\t\t-0.5693\t\t0.085\t\t-0.400223\t2.4022\n",
      "2\t\t-0.4707\t\t0.072\t\t-0.387037\t3.0968\n",
      "3\t\t-0.4585\t\t0.092\t\t-0.366297\t2.2962\n",
      "4\t\t-0.411\t\t0.073\t\t-0.342757\t2.3227\n",
      "5\t\t-0.3668\t\t0.023\t\t-0.342757\t2.7741\n",
      "6\t\t-0.3467\t\t0.011\t\t-0.334479\t3.9471\n",
      "7\t\t-0.3468\t\t0.024\t\t-0.30398\t3.12\n",
      "8\t\t-0.3458\t\t0.056\t\t-0.303032\t3.924\n",
      "9\t\t-0.3348\t\t0.026\t\t-0.299578\t3.1266\n",
      "10\t\t-0.3402\t\t0.019\t\t-0.299578\t3.3601\n",
      "11\t\t-0.3315\t\t0.02\t\t-0.299578\t5.2551\n",
      "12\t\t-0.3335\t\t0.03\t\t-0.288574\t4.0793\n",
      "13\t\t-0.3153\t\t0.027\t\t-0.282706\t4.0261\n",
      "14\t\t-0.2774\t\t0.015\t\t-0.26184\t2.9714\n",
      "15\t\t-0.2694\t\t0.01\t\t-0.255012\t5.2215\n",
      "16\t\t-0.2581\t\t0.012\t\t-0.24274\t4.9224\n",
      "17\t\t-0.2429\t\t0.015\t\t-0.22065\t4.6182\n",
      "18\t\t-0.228\t\t0.009\t\t-0.218978\t4.6701\n",
      "19\t\t-0.2265\t\t0.006\t\t-0.217591\t4.7345\n",
      "20\t\t-0.2167\t\t0.007\t\t-0.209729\t4.7861\n",
      "21\t\t-0.2154\t\t0.006\t\t-0.209729\t5.7182\n",
      "22\t\t-0.2125\t\t0.003\t\t-0.207886\t7.6518\n",
      "23\t\t-0.2143\t\t0.003\t\t-0.207886\t6.4991\n",
      "24\t\t-0.2075\t\t0.009\t\t-0.191763\t5.6319\n",
      "25\t\t-0.207\t\t0.007\t\t-0.191763\t5.7696\n"
     ]
    }
   ],
   "source": [
    "genetic_extractor = GeneticExtractor(population_size=25, iterations=25, verbose=True,\n",
    "                                     normed=True, add_noise_prob=0.3, add_shapelet_prob=0.3,\n",
    "                                     wait=10, plot=None, remove_shapelet_prob=0.3,\n",
    "                                     crossover_prob=0.66, n_jobs=4)\n",
    "print(\"Starting fit in genetic extractor with:\\n\"\n",
    "      \"population size:{0:d}\\n\"\n",
    "      \"iterations: {1:d}\\n\"\n",
    "      \"normed: {2}\\n\".format(genetic_extractor.population_size,genetic_extractor.iterations,genetic_extractor.normed))\n",
    "\n",
    "genetic_extractor.fit(x_train, y_train)\n"
   ]
  },
  {
   "cell_type": "code",
   "execution_count": 15,
   "metadata": {},
   "outputs": [
    {
     "name": "stdout",
     "output_type": "stream",
     "text": [
      "Accuracy = 0.675\n"
     ]
    }
   ],
   "source": [
    "distances_train = genetic_extractor.transform(x_train)\n",
    "distances_test = genetic_extractor.transform(x_test)\n",
    "\n",
    "lr = LogisticRegression()\n",
    "lr.fit(distances_train, y_train)\n",
    "\n",
    "# Print the accuracy score on the test set\n",
    "print('Accuracy = {}'.format(accuracy_score(y_test, lr.predict(distances_test))))"
   ]
  },
  {
   "cell_type": "code",
   "execution_count": null,
   "metadata": {},
   "outputs": [],
   "source": []
  }
 ],
 "metadata": {
  "kernelspec": {
   "display_name": "Python 3",
   "language": "python",
   "name": "python3"
  },
  "language_info": {
   "codemirror_mode": {
    "name": "ipython",
    "version": 3
   },
   "file_extension": ".py",
   "mimetype": "text/x-python",
   "name": "python",
   "nbconvert_exporter": "python",
   "pygments_lexer": "ipython3",
   "version": "3.6.7"
  }
 },
 "nbformat": 4,
 "nbformat_minor": 2
}
