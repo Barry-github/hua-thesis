{
 "cells": [
  {
   "cell_type": "code",
   "execution_count": 1,
   "metadata": {},
   "outputs": [],
   "source": [
    "import numpy as np\n",
    "import pandas as pd\n",
    "%matplotlib inline\n",
    "import matplotlib.pyplot as plt\n",
    "\n",
    "from gendis.genetic import GeneticExtractor\n",
    "from sklearn.linear_model import LogisticRegression\n",
    "from sklearn.metrics import accuracy_score\n",
    "from tools.data_extraction import DataExtractor\n",
    "from tools.trajectory_generator import TrajectoryGenerator\n",
    "from tools.utils import standardize_data, print_genetic_param, print_settings, set_movements, angle_diff\n",
    "from tools.experiments import Experiments\n",
    "\n",
    "np.random.seed(1337)  # Random seed for reproducibility\n",
    "\n",
    "tr_gen_options = {\"samples\": 25,\n",
    "                  \"freq\": 3,\n",
    "                  \"reset_data\": True}\n",
    "dt_gen_options = {\"n_test\": 150}\n",
    "\n",
    "train_test_options = {\"split\": 25}\n",
    "\n",
    "df_csv_options = {\"ts_class\": \"Bearing\"}\n",
    "\n",
    "gen_options = {\"population_size\": 20,\n",
    "               \"iterations\": 20,\n",
    "               \"verbose\": True,\n",
    "               \"normed\": True,\n",
    "               \"add_noise_prob\": 0.0,\n",
    "               \"add_shapelet_prob\": 0.3,\n",
    "               \"wait\": 10,\n",
    "               \"plot\": True,\n",
    "               \"remove_shapelet_prob\": 0.3,\n",
    "               \"crossover_prob\": 0.66,\n",
    "               \"n_jobs\": 4}\n",
    "\n",
    "settings = {\"trajectory_generator_options\": tr_gen_options,\n",
    "            \"data_generation_options\": dt_gen_options,\n",
    "            \"train_test_options\":train_test_options,\n",
    "            \"define_csvs_option\": df_csv_options,\n",
    "            \"genetic_options\": gen_options}\n",
    "\n",
    "tr_gen_options = settings[\"trajectory_generator_options\"]\n",
    "dt_gen_options = settings[\"data_generation_options\"]\n",
    "df_csvs_options = settings[\"define_csvs_option\"]\n",
    "train_test_options = settings[\"train_test_options\"]\n",
    "genetic_options = settings[\"genetic_options\"]\n",
    "\n",
    "first_movement = ['creeping_line_left']\n",
    "second_movement = ['random']\n",
    "movements = {'first_movement': first_movement,'second_movement': second_movement}\n",
    "set_movements(movements)\n"
   ]
  },
  {
   "cell_type": "code",
   "execution_count": 2,
   "metadata": {},
   "outputs": [
    {
     "name": "stdout",
     "output_type": "stream",
     "text": [
      "\n",
      "Create directory 'data' \n",
      "now creating data for movement: creeping_line_left\n",
      "now creating data for movement: random\n",
      "Done with generator\n",
      "\n",
      "Reading the data files....Done reading files\n",
      "The train samples length is:160\n",
      "The test samples length is:40\n",
      "\n",
      "Creating x_train.csv--y_train.csv and x_test.csv--y_test.csv ...Done with train.csv ...Done with test.csv\n",
      "Loading the csv files to the appropriate train and test arrays(nparrays)...Done\n"
     ]
    }
   ],
   "source": [
    "# Create files if not created\n",
    "tr_gen = TrajectoryGenerator(**tr_gen_options)\n",
    "tr_gen.data_generation(**dt_gen_options)\n",
    "# Read in the datafiles\n",
    "dex = DataExtractor()\n",
    "train_df, test_df = dex.train_test_dataframes(**train_test_options)\n",
    "print(\"The train samples length is:{0}\".format(len(train_df[0] * train_test_options[\"split\"]*2)))\n",
    "print(\"The test samples length is:{0}\\n\".format(len(test_df[0] * train_test_options[\"split\"]*2)))\n",
    "dex.define_csv(**df_csvs_options)\n",
    "\n",
    "x_train, y_train, x_test, y_test = dex.load_datasets()"
   ]
  },
  {
   "cell_type": "code",
   "execution_count": 3,
   "metadata": {},
   "outputs": [],
   "source": [
    "#x_train=angle_diff(x_train)\n",
    "#x_test=angle_diff(x_test)\n"
   ]
  },
  {
   "cell_type": "code",
   "execution_count": 4,
   "metadata": {},
   "outputs": [],
   "source": [
    "# real_data =  pd.read_csv(\"/home/kapadais/Desktop/HUA Thesis/ptixiaki hua/data/route.csv\")\n",
    "# real_data = real_data [[\"TIMESTAMP\",\"LAT\",\"LON\",\"HEADING\"]][:550]\n",
    "# #real_data = real_data [[\"TIMESTAMP\",\"LAT\",\"LON\"]][:750]\n",
    "# real_data.sort_values('TIMESTAMP',inplace=True)\n",
    "# n_split = len(real_data)/train_test_options[\"split\"]\n",
    "# real_data = np.split(real_data, n_split)\n"
   ]
  },
  {
   "cell_type": "code",
   "execution_count": 5,
   "metadata": {},
   "outputs": [],
   "source": [
    "# i = 0\n",
    "# k = 0\n",
    "# x_test = x_test[:42]\n",
    "# while i < len(x_test):\n",
    "    \n",
    "#     if not i % 2 :\n",
    "#         x_ds = np.array(real_data[k][\"HEADING\"])\n",
    "#         x_test[i] = x_ds\n",
    "#         k = k + 1\n",
    "#     i = i + 1\n"
   ]
  },
  {
   "cell_type": "code",
   "execution_count": 6,
   "metadata": {},
   "outputs": [],
   "source": [
    "# x_test"
   ]
  },
  {
   "cell_type": "code",
   "execution_count": 7,
   "metadata": {},
   "outputs": [],
   "source": [
    "# # Visualize the timeseries in the train and test set\n",
    "# colors = ['r', 'b', 'g', 'y', 'c']\n",
    "# plt.figure(figsize=(20, 10))\n",
    "# for ts, label in zip(x_train, y_train):\n",
    "#     plt.plot(range(len(ts)), ts, c=colors[int(label%len(colors))])\n",
    "# plt.title('The timeseries in the train set')\n",
    "# plt.show()\n",
    "\n",
    "# plt.figure(figsize=(20, 10))\n",
    "# for ts, label in zip(x_test, y_test):\n",
    "#     plt.plot(range(len(ts)), ts, c=colors[int(label%len(colors))])\n",
    "# plt.title('The timeseries in the test set')\n",
    "# plt.show()"
   ]
  },
  {
   "cell_type": "raw",
   "metadata": {},
   "source": []
  },
  {
   "cell_type": "code",
   "execution_count": 8,
   "metadata": {
    "scrolled": false
   },
   "outputs": [
    {
     "name": "stdout",
     "output_type": "stream",
     "text": [
      "standardized train and test data\n",
      "\n",
      "Starting fit in genetic extractor with:\n",
      "population size:20\n",
      "iterations: 20\n",
      "normed: True\n",
      "noise_prob: 0.0\n",
      "add_shapelet_prob: 0.3\n",
      "remove_shapelet_prob: 0.3\n",
      "crossover_prob: 0.66\n",
      "\n"
     ]
    },
    {
     "data": {
      "image/png": "[encoded data removed]",
      "text/plain": [
       "<Figure size 432x288 with 20 Axes>"
      ]
     },
     "metadata": {
      "needs_background": "light"
     },
     "output_type": "display_data"
    },
    {
     "name": "stdout",
     "output_type": "stream",
     "text": [
      "it\t\tavg\t\tstd\t\tmax\t\ttime\n",
      "1\t\t-0.5505\t\t0.071\t\t-0.42259\t4.0742\n",
      "2\t\t-0.5324\t\t0.063\t\t-0.42259\t1.8019\n",
      "3\t\t-0.4824\t\t0.092\t\t-0.356472\t1.9808\n",
      "4\t\t-0.4884\t\t0.059\t\t-0.356472\t1.7609\n",
      "5\t\t-0.4627\t\t0.058\t\t-0.356472\t2.4682\n",
      "6\t\t-0.4075\t\t0.047\t\t-0.347946\t2.1675\n",
      "7\t\t-0.3847\t\t0.03\t\t-0.347946\t1.8258\n",
      "8\t\t-0.3633\t\t0.015\t\t-0.335324\t2.2515\n",
      "9\t\t-0.3347\t\t0.031\t\t-0.289507\t2.1527\n",
      "10\t\t-0.3172\t\t0.032\t\t-0.289507\t1.9588\n",
      "11\t\t-0.3104\t\t0.031\t\t-0.277866\t2.8296\n",
      "12\t\t-0.3306\t\t0.04\t\t-0.277082\t2.3902\n",
      "13\t\t-0.3007\t\t0.032\t\t-0.268094\t2.4825\n",
      "14\t\t-0.3125\t\t0.05\t\t-0.261666\t2.3819\n",
      "15\t\t-0.2786\t\t0.02\t\t-0.261666\t2.3574\n",
      "16\t\t-0.2669\t\t0.016\t\t-0.24741\t2.5552\n",
      "17\t\t-0.2722\t\t0.017\t\t-0.24741\t3.2947\n",
      "18\t\t-0.2656\t\t0.014\t\t-0.24741\t2.7997\n",
      "19\t\t-0.2549\t\t0.007\t\t-0.241851\t2.7347\n",
      "20\t\t-0.2495\t\t0.012\t\t-0.232406\t2.826\n"
     ]
    }
   ],
   "source": [
    "print(\"standardized train and test data\\n\")\n",
    "x_train, x_test = standardize_data(x_train, x_test)\n",
    "genetic_extractor = GeneticExtractor(**genetic_options)\n",
    "print_genetic_param(genetic_extractor)\n",
    "genetic_extractor.fit(x_train, y_train)"
   ]
  },
  {
   "cell_type": "code",
   "execution_count": 9,
   "metadata": {},
   "outputs": [
    {
     "name": "stdout",
     "output_type": "stream",
     "text": [
      "Accuracy = 0.5\n"
     ]
    }
   ],
   "source": [
    "distances_train = genetic_extractor.transform(x_train)\n",
    "distances_test = genetic_extractor.transform(x_test)\n",
    "lr = LogisticRegression()\n",
    "lr.fit(distances_train, y_train)\n",
    "\n",
    "# Print the accuracy score on the test set\n",
    "accuracy_result = accuracy_score(y_test, lr.predict(distances_test))\n",
    "print('Accuracy = {}'.format(accuracy_result))"
   ]
  },
  {
   "cell_type": "code",
   "execution_count": 40,
   "metadata": {},
   "outputs": [
    {
     "name": "stdout",
     "output_type": "stream",
     "text": [
      "0    101\n",
      "1      6\n",
      "2      6\n",
      "3      6\n",
      "4      6\n",
      "5      6\n",
      "6      6\n",
      "7      6\n",
      "8      6\n",
      "9      6\n",
      "Name: Bearing, dtype: object\n",
      "10    148\n",
      "11     59\n",
      "12     59\n",
      "13     59\n",
      "14     59\n",
      "15     59\n",
      "16     59\n",
      "17     59\n",
      "18     59\n",
      "19     59\n",
      "Name: Bearing, dtype: object\n"
     ]
    }
   ],
   "source": [
    "a=lr.predict(distances_test)\n",
    "for idx, x in enumerate(y_test):\n",
    "    if x != a[idx]:\n",
    "        print(test_df[0][int(idx/2)][\"Bearing\"])"
   ]
  },
  {
   "cell_type": "code",
   "execution_count": 34,
   "metadata": {},
   "outputs": [
    {
     "data": {
      "text/plain": [
       "[             Timestamp        Lat        Lon Bearing Speed  Distance\n",
       " 0  2015-02-01 12:00:00  37.295493  23.824322     101    10       0.0\n",
       " 1  2015-02-01 12:03:00  37.299960  23.824912       6    10       0.5\n",
       " 2  2015-02-01 12:06:00  37.304427  23.825502       6    10       0.5\n",
       " 3  2015-02-01 12:09:00  37.308894  23.826093       6    10       0.5\n",
       " 4  2015-02-01 12:12:00  37.313361  23.826683       6    10       0.5\n",
       " 5  2015-02-01 12:15:00  37.317828  23.827273       6    10       0.5\n",
       " 6  2015-02-01 12:18:00  37.322295  23.827864       6    10       0.5\n",
       " 7  2015-02-01 12:21:00  37.326762  23.828454       6    10       0.5\n",
       " 8  2015-02-01 12:24:00  37.331229  23.829045       6    10       0.5\n",
       " 9  2015-02-01 12:27:00  37.335696  23.829635       6    10       0.5,\n",
       "               Timestamp        Lat        Lon Bearing Speed  Distance\n",
       " 10  2015-02-01 12:00:00  37.295493  23.824322     148    10       0.0\n",
       " 11  2015-02-01 12:03:00  37.297806  23.829162      59    10       0.5\n",
       " 12  2015-02-01 12:06:00  37.300119  23.834002      59    10       0.5\n",
       " 13  2015-02-01 12:09:00  37.302433  23.838842      59    10       0.5\n",
       " 14  2015-02-01 12:12:00  37.304746  23.843682      59    10       0.5\n",
       " 15  2015-02-01 12:15:00  37.307059  23.848523      59    10       0.5\n",
       " 16  2015-02-01 12:18:00  37.309372  23.853363      59    10       0.5\n",
       " 17  2015-02-01 12:21:00  37.311686  23.858204      59    10       0.5\n",
       " 18  2015-02-01 12:24:00  37.313999  23.863045      59    10       0.5\n",
       " 19  2015-02-01 12:27:00  37.316312  23.867886      59    10       0.5]"
      ]
     },
     "execution_count": 34,
     "metadata": {},
     "output_type": "execute_result"
    }
   ],
   "source": [
    "test_df[0]"
   ]
  },
  {
   "cell_type": "code",
   "execution_count": null,
   "metadata": {},
   "outputs": [],
   "source": []
  }
 ],
 "metadata": {
  "kernelspec": {
   "display_name": "Python 3",
   "language": "python",
   "name": "python3"
  },
  "language_info": {
   "codemirror_mode": {
    "name": "ipython",
    "version": 3
   },
   "file_extension": ".py",
   "mimetype": "text/x-python",
   "name": "python",
   "nbconvert_exporter": "python",
   "pygments_lexer": "ipython3",
   "version": "3.6.7"
  }
 },
 "nbformat": 4,
 "nbformat_minor": 2
}
