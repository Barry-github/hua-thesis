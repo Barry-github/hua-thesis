{
 "cells": [
  {
   "cell_type": "code",
   "execution_count": 2,
   "metadata": {},
   "outputs": [],
   "source": [
    "import os\n",
    "import sys\n",
    "module_path = os.path.abspath(os.path.join('..'))\n",
    "if module_path not in sys.path:\n",
    "    sys.path.append(module_path)\n",
    "import numpy as np\n",
    "import pandas as pd\n",
    "from statistics import mean\n",
    "from random import choice\n",
    "%matplotlib inline\n",
    "import matplotlib.pyplot as plt\n",
    "\n",
    "from gendis.genetic import GeneticExtractor\n",
    "from sklearn.linear_model import LogisticRegression\n",
    "from sklearn import preprocessing\n",
    "from sklearn.metrics import accuracy_score\n",
    "from tools.data_extraction import DataExtractor\n",
    "from tools.trajectory_generator import TrajectoryGenerator\n",
    "from tools.utils import standardize_data, print_genetic_param, print_settings, set_movements, angle_diff,scale_down, get_distance\n",
    "from tools.experiments import Experiments\n",
    "\n",
    "np.random.seed(1337)  # Random seed for reproducibility\n",
    "\n",
    "tr_gen_options = {\"samples\": 25,\n",
    "                  \"freq\": 3,\n",
    "                  \"reset_data\": True}\n",
    "dt_gen_options = {\"n_test\": 150}\n",
    "\n",
    "train_test_options = {\"split\": 25}\n",
    "\n",
    "df_csv_options = {\"ts_class\": \"Bearing\"}\n",
    "\n",
    "gen_options = {\"population_size\": 20,\n",
    "               \"iterations\": 20,\n",
    "               \"verbose\": True,\n",
    "               \"normed\": True,\n",
    "               \"add_noise_prob\": 0.0,\n",
    "               \"add_shapelet_prob\": 0.3,\n",
    "               \"wait\": 10,\n",
    "               \"plot\": None,\n",
    "               \"remove_shapelet_prob\": 0.3,\n",
    "               \"crossover_prob\": 0.66,\n",
    "               \"n_jobs\": 4}\n",
    "\n",
    "settings = {\"trajectory_generator_options\": tr_gen_options,\n",
    "            \"data_generation_options\": dt_gen_options,\n",
    "            \"train_test_options\":train_test_options,\n",
    "            \"define_csvs_option\": df_csv_options,\n",
    "            \"genetic_options\": gen_options}\n",
    "\n",
    "tr_gen_options = settings[\"trajectory_generator_options\"]\n",
    "dt_gen_options = settings[\"data_generation_options\"]\n",
    "df_csvs_options = settings[\"define_csvs_option\"]\n",
    "train_test_options = settings[\"train_test_options\"]\n",
    "genetic_options = settings[\"genetic_options\"]\n",
    "\n",
    "first_movement = ['creeping_line_left']\n",
    "second_movement = ['random']\n",
    "movements = {'first_movement': first_movement,'second_movement': second_movement}\n",
    "set_movements(movements)\n"
   ]
  },
  {
   "cell_type": "code",
   "execution_count": 3,
   "metadata": {},
   "outputs": [
    {
     "name": "stderr",
     "output_type": "stream",
     "text": [
      "2019-06-18 18:45:25.486 | INFO     | tools.trajectory_generator:data_generation:623 - \n",
      " Starting the generator with attributes: \n",
      "Original latitude: 37.295493\n",
      "Original longitude: 23.824322\n",
      "Initial bearing: 90\n",
      "Initial speed: 10\n",
      "Number of samples: 25\n",
      "Starting time of measurements: 2015-02-01 12:00:00\n",
      "With initial frequency of collected data: 3 min\n",
      "and hard reset of data: True\n",
      "2019-06-18 18:45:25.489 | INFO     | tools.trajectory_generator:data_generation:626 - Create directory 'generator_data' \n",
      "2019-06-18 18:45:25.491 | INFO     | tools.trajectory_generator:data_generation:632 - now creating data for movement: creeping_line_left\n",
      "2019-06-18 18:45:34.295 | INFO     | tools.trajectory_generator:data_generation:637 - now creating data for movement: random\n",
      "2019-06-18 18:46:04.721 | SUCCESS  | tools.trajectory_generator:data_generation:670 - Done with generator\n",
      "2019-06-18 18:46:04.723 | INFO     | tools.data_extraction:read_datasets:22 - Reading the data files\n",
      "2019-06-18 18:46:05.491 | SUCCESS  | tools.data_extraction:read_datasets:51 - Done reading files\n",
      "2019-06-18 18:46:06.579 | INFO     | tools.data_extraction:define_csv:76 - Creating x_train.csv--y_train.csv and x_test.csv--y_test.csv \n",
      "2019-06-18 18:46:06.615 | SUCCESS  | tools.data_extraction:define_csv:101 - Done with train.csv\n",
      "2019-06-18 18:46:06.711 | INFO     | tools.data_extraction:define_csv:122 - Done with test.csv\n",
      "2019-06-18 18:46:06.713 | INFO     | tools.data_extraction:load_datasets:129 - Loading the csv files to the appropriate train and test arrays(nparrays)\n",
      "2019-06-18 18:46:06.740 | SUCCESS  | tools.data_extraction:load_datasets:134 - Done\n"
     ]
    },
    {
     "name": "stdout",
     "output_type": "stream",
     "text": [
      "The train samples length is:6000\n",
      "The test samples length is:1500\n",
      "\n"
     ]
    }
   ],
   "source": [
    "# Create files if not created\n",
    "tr_gen = TrajectoryGenerator(**tr_gen_options)\n",
    "tr_gen.data_generation(**dt_gen_options)\n",
    "# Read in the datafiles\n",
    "dex = DataExtractor()\n",
    "train_df, test_df = dex.train_test_dataframes(**train_test_options)\n",
    "print(\"The train samples length is:{0}\".format(len(train_df[0] * train_test_options[\"split\"]*2)))\n",
    "print(\"The test samples length is:{0}\\n\".format(len(test_df[0] * train_test_options[\"split\"]*2)))\n",
    "dex.define_csv(**df_csvs_options)\n",
    "\n",
    "x_train, y_train, x_test, y_test = dex.load_datasets()"
   ]
  },
  {
   "cell_type": "code",
   "execution_count": 4,
   "metadata": {},
   "outputs": [
    {
     "name": "stderr",
     "output_type": "stream",
     "text": [
      "2019-06-18 18:46:06.770 | INFO     | tools.data_extraction:load_datasets:129 - Loading the csv files to the appropriate train and test arrays(nparrays)\n",
      "2019-06-18 18:46:06.787 | SUCCESS  | tools.data_extraction:load_datasets:134 - Done\n"
     ]
    },
    {
     "name": "stdout",
     "output_type": "stream",
     "text": [
      "(60, 25)\n"
     ]
    }
   ],
   "source": [
    "x_train, y_train, x_test, y_test = dex.load_datasets()\n",
    "labels = [\"TIMESTAMP\",\"LAT\",\"LON\",\"HEADING\"]\n",
    "real_data =  pd.read_csv(\"/home/kapadais/github/hua-thesis/data/route.csv\", engine='python')\n",
    "real_data = real_data [labels]\n",
    "real_data.sort_values('TIMESTAMP',inplace=True)\n",
    "real_data=real_data.reset_index(drop=True)\n",
    "data = scale_down(real_data,train_test_options[\"split\"])\n",
    "y_test = np.array([0,1])\n",
    "a=np.array(data[\"HEADING\"].values).astype(int)\n",
    "a = a.reshape(1, -1)\n",
    "a=preprocessing.normalize(a,axis=1)\n",
    "# b=x_test[1].reshape(1,-1)\n",
    "# b=preprocessing.normalize(b,axis=1)\n",
    "# x_test=np.array([a,b]).reshape(2,25)\n",
    "print(x_test.shape)"
   ]
  },
  {
   "cell_type": "code",
   "execution_count": 6,
   "metadata": {},
   "outputs": [
    {
     "data": {
      "text/plain": [
       "1"
      ]
     },
     "execution_count": 6,
     "metadata": {},
     "output_type": "execute_result"
    }
   ],
   "source": [
    "a.shape[0]"
   ]
  },
  {
   "cell_type": "code",
   "execution_count": null,
   "metadata": {},
   "outputs": [],
   "source": [
    "# x_train_anglediff=angle_diff(x_train)\n",
    "# x_test_anglediff=angle_diff(x_test)\n"
   ]
  },
  {
   "cell_type": "code",
   "execution_count": null,
   "metadata": {
    "scrolled": false
   },
   "outputs": [],
   "source": [
    "# # Visualize the timeseries in the train and test set\n",
    "# colors = ['r', 'b', 'g', 'y', 'c']\n",
    "# plt.figure(figsize=(20, 10))\n",
    "# for ts, label in zip(x_train, y_train):\n",
    "#     plt.plot(range(len(ts)), ts, c=colors[int(label%len(colors))])\n",
    "# plt.title('The timeseries in the train set')\n",
    "# plt.show()\n",
    "\n",
    "# plt.figure(figsize=(20, 10))\n",
    "# for ts, label in zip(x_test, y_test):\n",
    "#     plt.plot(range(len(ts)), ts, c=colors[int(label%len(colors))])\n",
    "# plt.title('The timeseries in the test set')\n",
    "# plt.show()"
   ]
  },
  {
   "cell_type": "code",
   "execution_count": 26,
   "metadata": {
    "scrolled": false
   },
   "outputs": [
    {
     "name": "stdout",
     "output_type": "stream",
     "text": [
      "standardized train and test data\n",
      "\n",
      "it\t\tavg\t\tstd\t\tmax\t\ttime\n",
      "1\t\t-0.3836\t\t0.106\t\t-0.228656\t6.1576\n",
      "2\t\t-0.3199\t\t0.069\t\t-0.228656\t11.0879\n",
      "3\t\t-0.272\t\t0.069\t\t-0.208877\t9.2709\n",
      "4\t\t-0.2101\t\t0.036\t\t-0.14546\t9.8628\n",
      "5\t\t-0.1785\t\t0.034\t\t-0.135873\t10.377\n",
      "6\t\t-0.171\t\t0.025\t\t-0.135873\t12.7805\n",
      "7\t\t-0.1573\t\t0.033\t\t-0.119785\t15.6453\n",
      "8\t\t-0.1432\t\t0.027\t\t-0.119785\t12.9931\n",
      "9\t\t-0.129\t\t0.027\t\t-0.104198\t14.1547\n",
      "10\t\t-0.1192\t\t0.026\t\t-0.097008\t18.2431\n",
      "11\t\t-0.1213\t\t0.023\t\t-0.097008\t16.9289\n",
      "12\t\t-0.1282\t\t0.022\t\t-0.097008\t16.3837\n",
      "13\t\t-0.1252\t\t0.032\t\t-0.097008\t21.6572\n",
      "14\t\t-0.1443\t\t0.038\t\t-0.097008\t20.1195\n",
      "15\t\t-0.1327\t\t0.022\t\t-0.097008\t23.6116\n",
      "16\t\t-0.1303\t\t0.024\t\t-0.097008\t19.2282\n",
      "17\t\t-0.1346\t\t0.015\t\t-0.097008\t22.8631\n",
      "18\t\t-0.1184\t\t0.025\t\t-0.093399\t23.4443\n",
      "19\t\t-0.1052\t\t0.015\t\t-0.092048\t20.653\n",
      "20\t\t-0.1048\t\t0.019\t\t-0.085291\t20.7716\n"
     ]
    }
   ],
   "source": [
    "print(\"standardized train and test data\\n\")\n",
    "x_train, x_test = standardize_data(x_train, x_test)\n",
    "genetic_extractor = GeneticExtractor(**genetic_options)\n",
    "# genetic_extrator_anglediff = GeneticExtractor(**genetic_options)\n",
    "print_genetic_param(genetic_extractor)\n",
    "genetic_extractor.fit(x_train, y_train)\n",
    "# genetic_extrator_anglediff.fit(x_train_anglediff,y_train)"
   ]
  },
  {
   "cell_type": "code",
   "execution_count": 27,
   "metadata": {},
   "outputs": [
    {
     "name": "stdout",
     "output_type": "stream",
     "text": [
      "Accuracy = 0.5\n"
     ]
    }
   ],
   "source": [
    "distances_train = genetic_extractor.transform(x_train)\n",
    "distances_test = genetic_extractor.transform(x_test)\n",
    "\n",
    "# distances_train_anglediff = genetic_extrator_anglediff.transform(x_train_anglediff)\n",
    "# distances_test_anglediff= genetic_extrator_anglediff.transform(x_test_anglediff)\n",
    "\n",
    "# mixed_distances_train = np.concatenate((distances_train,distances_train_anglediff),axis=1)\n",
    "# mixed_distances_test = np.concatenate((distances_test,distances_test_anglediff),axis=1) \n",
    "lr = LogisticRegression()\n",
    "# lr.fit(mixed_distances_train, y_train)\n",
    "lr.fit(distances_train,y_train)\n",
    "\n",
    "# Print the accuracy score on the test set\n",
    "# accuracy_result = accuracy_score(y_test, lr.predict(mixed_distances_test))\n",
    "accuracy_result = accuracy_score(y_test, lr.predict(distances_test))\n",
    "print('Accuracy = {}'.format(accuracy_result))"
   ]
  },
  {
   "cell_type": "code",
   "execution_count": 28,
   "metadata": {},
   "outputs": [
    {
     "data": {
      "text/plain": [
       "array([1, 1])"
      ]
     },
     "execution_count": 28,
     "metadata": {},
     "output_type": "execute_result"
    }
   ],
   "source": [
    "lr.predict(distances_test)"
   ]
  },
  {
   "cell_type": "code",
   "execution_count": 29,
   "metadata": {},
   "outputs": [
    {
     "data": {
      "text/plain": [
       "array([[0.06713114, 0.93286886],\n",
       "       [0.06240788, 0.93759212]])"
      ]
     },
     "execution_count": 29,
     "metadata": {},
     "output_type": "execute_result"
    }
   ],
   "source": [
    "lr.predict_proba(distances_test)"
   ]
  },
  {
   "cell_type": "code",
   "execution_count": null,
   "metadata": {},
   "outputs": [],
   "source": []
  }
 ],
 "metadata": {
  "kernelspec": {
   "display_name": "Python 3",
   "language": "python",
   "name": "python3"
  },
  "language_info": {
   "codemirror_mode": {
    "name": "ipython",
    "version": 3
   },
   "file_extension": ".py",
   "mimetype": "text/x-python",
   "name": "python",
   "nbconvert_exporter": "python",
   "pygments_lexer": "ipython3",
   "version": "3.6.7"
  }
 },
 "nbformat": 4,
 "nbformat_minor": 2
}
