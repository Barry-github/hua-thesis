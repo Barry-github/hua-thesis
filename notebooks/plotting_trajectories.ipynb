{
 "cells": [
  {
   "cell_type": "code",
   "execution_count": null,
   "metadata": {},
   "outputs": [],
   "source": [
    "import os\n",
    "import sys\n",
    "module_path = os.path.abspath(os.path.join('..'))\n",
    "if module_path not in sys.path:\n",
    "    sys.path.append(module_path)\n",
    "# Pandas for managing datasets\n",
    "import pandas as pd\n",
    "import seaborn as sns\n",
    "from matplotlib import pyplot as plt\n",
    "%matplotlib inline\n",
    "\n",
    "from tools.trajectory_generator import TrajectoryGenerator\n",
    "from tools.utils import set_movements\n",
    "from datetime import datetime\n"
   ]
  },
  {
   "cell_type": "code",
   "execution_count": null,
   "metadata": {},
   "outputs": [],
   "source": [
    "tr_gen_options = {\"samples\": 25,\n",
    "                  \"freq\": 5,\n",
    "                  \"reset_data\": True,\n",
    "                 \"init_speed\":20}\n",
    "dt_gen_options = {\"n_test\": 5}\n",
    "\n",
    "train_test_options = {\"split\": 25}\n",
    "\n",
    "df_csv_options = {\"ts_class\": \"Bearing\"}\n",
    "\n",
    "movement_list = [\"step_up_left\",\"step_up_right\",\n",
    "                 \"spiral_movement_left\",\"spiral_movement_right\",\n",
    "                 \"expanding_square_left\",\"expanding_square_right\",\n",
    "                 \"creeping_line_left\",\"creeping_line_right\",\n",
    "                 \"sector_pattern_left\",\"sector_pattern_right\"]\n",
    "for idx,x in enumerate(movement_list):\n",
    "    first_movement = [x]\n",
    "    second_movement = ['random']\n",
    "    movements = {'first_movement': first_movement,'second_movement': second_movement}\n",
    "    set_movements(movements)\n",
    "    # Create files if not created\n",
    "    tr_gen = TrajectoryGenerator(**tr_gen_options)\n",
    "    tr_gen.data_generation(**dt_gen_options)\n",
    "    if not os.path.isdir(\"figures/generated_data\"):\n",
    "        os.mkdir(\"figures/generated_data\")\n",
    "    if not os.path.isdir(\"figures/generated_data\"+\"/\"+x):\n",
    "        os.mkdir(\"figures/generated_data\"+\"/\"+x)    \n",
    "    for i in range(0,dt_gen_options[\"n_test\"]):\n",
    "        fig, ax = plt.subplots()\n",
    "        file = \"generator_data/first_movement_0_\"+first_movement[0]+\"_\"+str(i)+\"_2015-02-01.csv\"\n",
    "        df =  pd.read_csv(file)\n",
    "        sns.lineplot(x='Lon', y='Lat', data=df, ax=ax,sort=False,marker=\"o\")\n",
    "        for j, point in df.iterrows():\n",
    "            ax.text(point['Lon']+0.0011, point['Lat'], str(point['Bearing']),fontsize=20)  \n",
    "        fig.set_size_inches(30, 20)\n",
    "        ax.set_ylabel('Latitute', fontsize = 20.0) # Y label\n",
    "        ax.set_xlabel('Longitude ', fontsize = 20.0) # X label\n",
    "        title = \"Generated Data for pattern:\"+x+\"\\ntrajectory_no\"+str(i)\n",
    "        ax.set_title(title,fontsize = 50.0)\n",
    "        plt.savefig(\"figures/generated_data/\"+x+\"/trajectory_no_\"+str(i)+\".png\",dpi=fig.dpi)\n",
    "        plt.clf()\n"
   ]
  },
  {
   "cell_type": "code",
   "execution_count": null,
   "metadata": {},
   "outputs": [],
   "source": [
    "# #for multiple trajectory plotting \n",
    "# i =0\n",
    "\n",
    "# while i<10:\n",
    "#     fig, ax = plt.subplots()\n",
    "#     fig.set_size_inches(30, 20)\n",
    "#     ax.set_ylabel('Latitute', fontsize = 20.0) # Y label\n",
    "#     ax.set_xlabel('Longitude ', fontsize = 20.0) # X label\n",
    "#     file = \"generator_data/second_movement_0_\"+second_movement[0]+\"_\"+str(i)+\"_2015-02-01.csv\"\n",
    "#     df =  pd.read_csv(file)\n",
    "#     i=i+1\n",
    "#     # Plot using Seaborn\n",
    "#     sns.lineplot(x='Lon', y='Lat', data=df, ax=ax,sort=False,marker=\"o\")\n",
    "#     for j, point in df.iterrows():\n",
    "#         ax.text(point['Lon']+0.0011, point['Lat'], str(point['Bearing']),fontsize=20)            \n",
    "\n",
    "#     ax.set_ylabel('Latitute', fontsize = 20.0) # Y label\n",
    "#     ax.set_xlabel('Longitude ', fontsize = 20.0) # X label"
   ]
  },
  {
   "cell_type": "code",
   "execution_count": null,
   "metadata": {},
   "outputs": [],
   "source": [
    "# #for single trajectory plotting \n",
    "# fig, ax = plt.subplots()\n",
    "# fig.set_size_inches(30, 20)\n",
    "# plt.rcParams.update({'font.size': 20})\n",
    "# file = \"generator_data/first_movement_0_\"+first_movement[0]+\"_3_2015-02-01.csv\"\n",
    "# df =  pd.read_csv(file)\n",
    "# # Plot using Seaborn\n",
    "# sns.lineplot(x='Lon', y='Lat', data=df, ax=ax,sort=False,marker=\"o\")\n",
    "# for i, point in df.iterrows():\n",
    "#     ax.text(point['Lon']+0.0001, point['Lat'], str(point['Bearing']))            \n",
    "\n",
    "# ax.set_ylabel('Latitute', fontsize = 20.0) # Y label\n",
    "# ax.set_xlabel('Longitude ', fontsize = 20.0) # X label"
   ]
  },
  {
   "cell_type": "code",
   "execution_count": null,
   "metadata": {},
   "outputs": [],
   "source": []
  }
 ],
 "metadata": {
  "kernelspec": {
   "display_name": "Python 3",
   "language": "python",
   "name": "python3"
  },
  "language_info": {
   "codemirror_mode": {
    "name": "ipython",
    "version": 3
   },
   "file_extension": ".py",
   "mimetype": "text/x-python",
   "name": "python",
   "nbconvert_exporter": "python",
   "pygments_lexer": "ipython3",
   "version": "3.6.7"
  }
 },
 "nbformat": 4,
 "nbformat_minor": 2
}
