{
 "cells": [
  {
   "cell_type": "code",
   "execution_count": 12,
   "metadata": {
    "scrolled": true
   },
   "outputs": [
    {
     "name": "stdout",
     "output_type": "stream",
     "text": [
      "Frequency of unique values of the said array:\n",
      "[[ 1  2  3  4  5  6]\n",
      " [ 1  4  2  3  3 11]]\n",
      "experiment with the most max accuracies: {0} with {1} occurrences\n",
      "mean accuracy: 0.9246527777777778\n",
      "average accuracy: 0.9246527777777778\n",
      "max accuracy: 0.9666666666666667\n"
     ]
    }
   ],
   "source": [
    "import os \n",
    "import numpy as np\n",
    "values = []\n",
    "experiments = []\n",
    "\n",
    "if os.path.exists(\"outputs\"):\n",
    "    if os.path.isdir(\"outputs\"):\n",
    "        filelist = os.listdir(\"outputs\")\n",
    "        for file in filelist:\n",
    "            file = \"outputs/\"+file\n",
    "            f = open(file,\"r\")\n",
    "            contents = f.read()\n",
    "            contents = str(contents)\n",
    "            contents = contents.split()\n",
    "            values.append(float(contents[2]))\n",
    "            #experiments.append(int(contents[5]))\n",
    "\n",
    "n_values = np.array(values)\n",
    "n_exp = np.array(experiments)\n",
    "values_mean = np.mean(n_values)\n",
    "values_average = np.average(n_values)\n",
    "values_max = np.amax(n_values)\n",
    "unique_elements, counts_elements = np.unique(n_exp, return_counts=True)\n",
    "print(\"Frequency of unique values of the said array:\")\n",
    "print(np.asarray((unique_elements, counts_elements)))\n",
    "print(\"experiment with the most max accuracies: {0} with {1} occurrences\")\n",
    "print(\"mean accuracy: {}\".format(values_mean))\n",
    "print(\"average accuracy: {}\".format(values_average))\n",
    "print(\"max accuracy: {}\".format(values_max))\n",
    "\n",
    "            \n",
    "        "
   ]
  },
  {
   "cell_type": "code",
   "execution_count": null,
   "metadata": {},
   "outputs": [],
   "source": []
  }
 ],
 "metadata": {
  "kernelspec": {
   "display_name": "Python 3",
   "language": "python",
   "name": "python3"
  },
  "language_info": {
   "codemirror_mode": {
    "name": "ipython",
    "version": 3
   },
   "file_extension": ".py",
   "mimetype": "text/x-python",
   "name": "python",
   "nbconvert_exporter": "python",
   "pygments_lexer": "ipython3",
   "version": "3.6.7"
  }
 },
 "nbformat": 4,
 "nbformat_minor": 2
}
